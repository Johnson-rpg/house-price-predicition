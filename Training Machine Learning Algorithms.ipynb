{
 "cells": [
  {
   "cell_type": "markdown",
   "metadata": {},
   "source": [
    "In this notebook I have tried to find the best suitable machine learning model to predict house prices.\n",
    "\n",
    "**Note:** I have done a lot of parameter tuning for each model, but I can't every step in notebook. So I have filtered the steps and added only important ones."
   ]
  },
  {
   "cell_type": "code",
   "execution_count": 1,
   "metadata": {
    "collapsed": true
   },
   "outputs": [],
   "source": [
    "import numpy as np\n",
    "import pandas as pd\n",
    "import matplotlib.pyplot as plt\n",
    "import seaborn as sns\n",
    "%matplotlib inline"
   ]
  },
  {
   "cell_type": "code",
   "execution_count": 2,
   "metadata": {
    "collapsed": true
   },
   "outputs": [],
   "source": [
    "import numpy.random as rnd\n",
    "rnd.seed(42)"
   ]
  },
  {
   "cell_type": "code",
   "execution_count": 3,
   "metadata": {
    "collapsed": true
   },
   "outputs": [],
   "source": [
    "from sklearn.pipeline import Pipeline,FeatureUnion\n",
    "from sklearn.preprocessing import Imputer,StandardScaler"
   ]
  },
  {
   "cell_type": "markdown",
   "metadata": {},
   "source": [
    "I have just copies the classes and functions  defined in EDA notebook"
   ]
  },
  {
   "cell_type": "code",
   "execution_count": 4,
   "metadata": {
    "collapsed": true
   },
   "outputs": [],
   "source": [
    "from sklearn.base import BaseEstimator,TransformerMixin,RegressorMixin\n",
    "\n",
    "class FeaturesAdder(BaseEstimator,TransformerMixin):\n",
    "    \"\"\"This class adds new features in the dataset.\n",
    "        Features added are : rooms_per_household, bedrooms_per_room, and population_per_household.\n",
    "    \"\"\"\n",
    "    def fit(self,X,y=None):\n",
    "        return self\n",
    "    def transform(self,X,y=None):\n",
    "        X['rooms_per_household']=X['total_rooms']/X['households']\n",
    "        X['bedrooms_per_room']=X['total_bedrooms']/X['total_rooms']\n",
    "        X['population_per_household']=X['population']/X['households']\n",
    "        return X\n",
    "\n",
    "\n",
    "class RemoveOutliers(BaseEstimator,TransformerMixin):\n",
    "    \"\"\"This class removes outliers from data.\n",
    "    Note: Outlier values are hard coded\n",
    "    \"\"\"\n",
    "    def fit (self,X,y=None):\n",
    "        return self\n",
    "    \n",
    "    def transform(self,X,y=None):\n",
    "        X=X[(X['median_house_value']!=500001) | (X['median_income']>=2)].reset_index(drop=True)\n",
    "        X=X[X['median_income']<=11].reset_index(drop=True)\n",
    "        X=X[(X['median_house_value']!=350000) | (X['median_income']>=1.5)].reset_index(drop=True)\n",
    "        X=X[(X['median_house_value']!=450000) | (X['median_income']>=2)].reset_index(drop=True)\n",
    "        X=X[(X['median_house_value']>=350000) | (X['median_income']<=9.5)].reset_index(drop=True)\n",
    "        X=X[X['population']<=9000]\n",
    "        X=X[(X['population_per_household']>=1.15) & (X['population_per_household']<=6.5)]\n",
    "        X=X[X['rooms_per_household']<20]\n",
    "        X=X[X['bedrooms_per_room']<0.5].reset_index(drop=True)\n",
    "        return X\n",
    "    \n",
    "\n",
    "class FeaturesTransformer(BaseEstimator,TransformerMixin):\n",
    "    \"\"\"This class trnsforms numberical featuress in the dataset.\n",
    "    Note: Transformations are hard coded.\n",
    "    \"\"\"\n",
    "    def fit(self,X,y=None):\n",
    "        return self\n",
    "    def transform(self,X,y=None):\n",
    "        import numpy as np\n",
    "        from scipy.special import boxcox1p        \n",
    "        X['total_rooms']=X['total_rooms'].apply(lambda x: boxcox1p(x,0.25))\n",
    "        X['total_bedrooms']=X['total_bedrooms'].apply(lambda x: boxcox1p(x,0.25))\n",
    "        X['households']=X['households'].apply(lambda x: boxcox1p(x,0.2))\n",
    "        X['population']=X['population'].apply(lambda x: boxcox1p(x,0.3))\n",
    "        X['rooms_per_household']=X['rooms_per_household'].apply(lambda x: np.log1p(x)**0.5)\n",
    "        X['bedrooms_per_room']=X['bedrooms_per_room'].apply(lambda x: np.log1p(x)**0.25)\n",
    "        X['median_income']=X['median_income'].apply(lambda x: np.log1p(x)**1.25)\n",
    "        X['population_per_household']=X['population_per_household'].apply(lambda x: np.log1p(x)**1)\n",
    "        return X\n",
    "    \n",
    "\n",
    "class DataFrameSelector(BaseEstimator,TransformerMixin):\n",
    "    \"\"\"This class is a dataframe selector.\n",
    "        Data members:\n",
    "            features: A list of column_names you want in output dataframe\n",
    "    \"\"\"\n",
    "    def __init__(self,features):\n",
    "        self.features=features\n",
    "    def fit(self,X,y=None):\n",
    "        return self\n",
    "    def transform(self,X,y=None):\n",
    "        return X[self.features]\n",
    "\n",
    "class GetDummies(BaseEstimator,TransformerMixin):\n",
    "    \"\"\"This class is used to get dummy columns from categorical columns.\"\"\"\n",
    "    def fit (self,X,y=None):\n",
    "        return self\n",
    "    def transform(self,X,y=None):\n",
    "        #change ISLAND to NEAR BAY...as count of ISLAND is very low\n",
    "        X[X=='ISLAND']='NEAR BAY'\n",
    "        return (pd.get_dummies(X,drop_first=True))"
   ]
  },
  {
   "cell_type": "code",
   "execution_count": 5,
   "metadata": {
    "collapsed": true
   },
   "outputs": [],
   "source": [
    "def remove_by_pvalue(X,y,pvalue=0.05):\n",
    "    \"\"\"Remove features with p-value more than 'pvalue'\n",
    "    \n",
    "    This function uses statsmodels.api.OLS model. Please add intercept to data externally.\n",
    "    Input:\n",
    "        X: Array or dataframe excluding predicted variable\n",
    "        y: Series or list of predicted variable\n",
    "        pvalue: int or float\n",
    "    \n",
    "    Note:\n",
    "        X is changed inplace\n",
    "    \"\"\"\n",
    "    import statsmodels.api as sm\n",
    "    for i in range(len(X.columns)):\n",
    "        regressor_OLS=sm.OLS(endog=y,exog=X).fit()\n",
    "        s=regressor_OLS.pvalues.sort_values(ascending=False)\n",
    "        if s.iloc[0]>pvalue:\n",
    "            X.drop(s.index[0],axis=1,inplace=True)\n",
    "            print('Removed: ',s.index[0],'P-value: ',s.iloc[0])\n",
    "        \n",
    "def remove_by_vif(X,vif=5):\n",
    "    \"\"\"Remove columns from X whose VIF is greater than supplied 'vif'\n",
    "    Parameters:\n",
    "        X:array or dataframe containing data excluding target variable\n",
    "        vif: int or float of limiting value of VIF\n",
    "    Note:\n",
    "        This function changes X inplace\n",
    "    \"\"\"\n",
    "    import statsmodels.api as sm\n",
    "    from statsmodels.stats.outliers_influence import variance_inflation_factor\n",
    "        \n",
    "    for i in range(len(X.columns)):\n",
    "        l = [variance_inflation_factor(X.values, i) for i in range(X.shape[1])]\n",
    "        s=pd.Series(index=X.columns,data=l).sort_values(ascending=False)\n",
    "        if s.iloc[0]>vif:\n",
    "            X.drop(s.index[0],axis=1,inplace=True)\n",
    "            print('Removed: ',s.index[0],', VIF: ',s.iloc[0])\n",
    "        else:\n",
    "            break\n"
   ]
  },
  {
   "cell_type": "code",
   "execution_count": null,
   "metadata": {
    "collapsed": true
   },
   "outputs": [],
   "source": []
  },
  {
   "cell_type": "markdown",
   "metadata": {},
   "source": [
    "### Making Train Data Ready\n",
    "\n",
    "I have done the same operations on data as discussed in EDA notebook"
   ]
  },
  {
   "cell_type": "code",
   "execution_count": 6,
   "metadata": {
    "collapsed": true
   },
   "outputs": [],
   "source": [
    "df=pd.read_csv('strat_train_set.csv')"
   ]
  },
  {
   "cell_type": "code",
   "execution_count": 7,
   "metadata": {},
   "outputs": [
    {
     "name": "stderr",
     "output_type": "stream",
     "text": [
      "C:\\Users\\dbda\\Anaconda3\\lib\\site-packages\\ipykernel_launcher.py:74: SettingWithCopyWarning: \n",
      "A value is trying to be set on a copy of a slice from a DataFrame.\n",
      "Try using .loc[row_indexer,col_indexer] = value instead\n",
      "\n",
      "See the caveats in the documentation: http://pandas.pydata.org/pandas-docs/stable/indexing.html#indexing-view-versus-copy\n",
      "C:\\Users\\dbda\\Anaconda3\\lib\\site-packages\\pandas\\core\\frame.py:2366: SettingWithCopyWarning: \n",
      "A value is trying to be set on a copy of a slice from a DataFrame\n",
      "\n",
      "See the caveats in the documentation: http://pandas.pydata.org/pandas-docs/stable/indexing.html#indexing-view-versus-copy\n",
      "  self._where(-key, value, inplace=True)\n",
      "C:\\Users\\dbda\\Anaconda3\\lib\\site-packages\\statsmodels\\compat\\pandas.py:56: FutureWarning: The pandas.core.datetools module is deprecated and will be removed in a future version. Please use the pandas.tseries module instead.\n",
      "  from pandas.core import datetools\n"
     ]
    },
    {
     "name": "stdout",
     "output_type": "stream",
     "text": [
      "Removed:  total_bedrooms , VIF:  558.923557961\n",
      "Removed:  households , VIF:  228.174136543\n",
      "Removed:  total_rooms , VIF:  108.348134348\n",
      "Removed:  latitude , VIF:  18.3371368814\n",
      "Removed:  bedrooms_per_room , VIF:  5.61881879787\n"
     ]
    }
   ],
   "source": [
    "#Adding features\n",
    "df=FeaturesAdder().fit_transform(df)\n",
    "\n",
    "num_features=['longitude', 'latitude', 'housing_median_age', 'total_rooms',\n",
    "       'total_bedrooms', 'population', 'households', 'median_income',\n",
    "       'median_house_value', 'rooms_per_household',\n",
    "       'bedrooms_per_room', 'population_per_household']\n",
    "\n",
    "#Removing outliers\n",
    "df=RemoveOutliers().fit_transform(df)\n",
    "\n",
    "data_labels=df['median_house_value']\n",
    "df=df.drop('median_house_value',axis=1)\n",
    "\n",
    "#Transforming features\n",
    "df=FeaturesTransformer().fit_transform(df)\n",
    "\n",
    "num_features=['longitude', 'latitude', 'housing_median_age', 'total_rooms',\n",
    "       'total_bedrooms', 'population', 'households', 'median_income',\n",
    "       'rooms_per_household','bedrooms_per_room', 'population_per_household']\n",
    "cat_featues=['ocean_proximity']\n",
    "\n",
    "#Mean value imputation, feature scaling, gettin gdummy variables\n",
    "num_pipeline=Pipeline([\n",
    "    ('selector',DataFrameSelector(num_features)),\n",
    "    ('imputer',Imputer(strategy='median')),\n",
    "    ('std_scaler',StandardScaler())\n",
    "])\n",
    "\n",
    "cat_pipeline=Pipeline([\n",
    "    ('selector',DataFrameSelector(cat_featues)),\n",
    "    ('get_dummies',GetDummies())\n",
    "])\n",
    "\n",
    "#Combining numerical and categorica data\n",
    "data_cleaning_pipeline=FeatureUnion(transformer_list=[\n",
    "    ('num_pipeline',num_pipeline),\n",
    "    ('cat_pipeline',cat_pipeline),  \n",
    "])\n",
    "\n",
    "df=data_cleaning_pipeline.fit_transform(df)\n",
    "\n",
    "l=num_features.copy()\n",
    "l.extend([0,1,2])\n",
    "df=pd.DataFrame(df,columns=l)\n",
    "\n",
    "#Check for multicoliniearity\n",
    "remove_by_vif(df)\n",
    "remove_by_pvalue(df,data_labels)\n",
    "\n",
    "data_prepared=df\n",
    "y_train=data_labels.copy()\n",
    "\n",
    "label_scaler=StandardScaler()\n",
    "data_labels=label_scaler.fit_transform(y_train.values.reshape(-1,1))"
   ]
  },
  {
   "cell_type": "code",
   "execution_count": 8,
   "metadata": {},
   "outputs": [
    {
     "name": "stdout",
     "output_type": "stream",
     "text": [
      "<class 'pandas.core.frame.DataFrame'>\n",
      "RangeIndex: 16005 entries, 0 to 16004\n",
      "Data columns (total 9 columns):\n",
      "longitude                   16005 non-null float64\n",
      "housing_median_age          16005 non-null float64\n",
      "population                  16005 non-null float64\n",
      "median_income               16005 non-null float64\n",
      "rooms_per_household         16005 non-null float64\n",
      "population_per_household    16005 non-null float64\n",
      "0                           16005 non-null float64\n",
      "1                           16005 non-null float64\n",
      "2                           16005 non-null float64\n",
      "dtypes: float64(9)\n",
      "memory usage: 1.1 MB\n"
     ]
    }
   ],
   "source": [
    "data_prepared.info()"
   ]
  },
  {
   "cell_type": "code",
   "execution_count": null,
   "metadata": {
    "collapsed": true
   },
   "outputs": [],
   "source": []
  },
  {
   "cell_type": "markdown",
   "metadata": {},
   "source": [
    "## Choosing ML Algorithm"
   ]
  },
  {
   "cell_type": "code",
   "execution_count": 9,
   "metadata": {
    "collapsed": true
   },
   "outputs": [],
   "source": [
    "from sklearn.metrics import mean_squared_error,r2_score\n",
    "from sklearn.model_selection import learning_curve,cross_val_score,validation_curve,train_test_split\n",
    "from sklearn.model_selection import GridSearchCV"
   ]
  },
  {
   "cell_type": "code",
   "execution_count": 10,
   "metadata": {
    "collapsed": true
   },
   "outputs": [],
   "source": [
    "def plot_validation_curve(scores,param_range,param_name,scoring='r2'):\n",
    "    \"\"\"This function plot validation curve.\n",
    "    \n",
    "    Parameters:\n",
    "        scores: scores obtained from validation_curve() method\n",
    "        param_range: list of range of parameters passed as 'param_range' in validation_curve() method\n",
    "        scoring: str\n",
    "    \"\"\"\n",
    "    n=len(param_range)\n",
    "    if scoring=='r2':\n",
    "        train_score=[scores[0][i].mean() for i in range (0,n)]\n",
    "        test_score=[scores[1][i].mean() for i in range (0,n)]\n",
    "    elif scoring=='neg_mean_squared_error':\n",
    "        train_score=[np.sqrt(-scores[0][i].mean()) for i in range (0,n)]\n",
    "        test_score=[np.sqrt(-scores[1][i].mean()) for i in range (0,n)]\n",
    "\n",
    "    fig=plt.figure(figsize=(8,6))\n",
    "    plt.plot(param_range,train_score,label='Train')\n",
    "    plt.plot(param_range,test_score,label='Test')\n",
    "    plt.xticks=param_range\n",
    "    plt.title(\"Validation curve of {}\".format(param_name),size=12)\n",
    "    plt.legend()\n"
   ]
  },
  {
   "cell_type": "markdown",
   "metadata": {},
   "source": [
    "### Linear Regression"
   ]
  },
  {
   "cell_type": "code",
   "execution_count": 11,
   "metadata": {
    "collapsed": true
   },
   "outputs": [],
   "source": [
    "from sklearn.linear_model import LinearRegression,Ridge"
   ]
  },
  {
   "cell_type": "code",
   "execution_count": 12,
   "metadata": {},
   "outputs": [
    {
     "name": "stdout",
     "output_type": "stream",
     "text": [
      "R2:  0.799186299388\n"
     ]
    }
   ],
   "source": [
    "lr=LinearRegression()\n",
    "scores=cross_val_score(lr,data_prepared,data_labels,n_jobs=-1,cv=5,scoring='r2')\n",
    "print('R2: ',np.sqrt(scores).mean())"
   ]
  },
  {
   "cell_type": "markdown",
   "metadata": {},
   "source": [
    "To calculate RMSE I have used 'train_y' which are unscaled labels."
   ]
  },
  {
   "cell_type": "code",
   "execution_count": 13,
   "metadata": {},
   "outputs": [
    {
     "name": "stdout",
     "output_type": "stream",
     "text": [
      "RMSE:  67960.7878003\n"
     ]
    }
   ],
   "source": [
    "lr=LinearRegression()\n",
    "scores=cross_val_score(lr,data_prepared,y_train,n_jobs=-1,cv=5,scoring='neg_mean_squared_error')\n",
    "print('RMSE: ',np.sqrt(-scores).mean())"
   ]
  },
  {
   "cell_type": "markdown",
   "metadata": {},
   "source": [
    "So with linear regression,\n",
    "\n",
    "R-squared=0.8\n",
    "\n",
    "RMSE=67960.78\n",
    "\n",
    "RMSE of above model is 67960 which means that there's an average error of $67960 in prediction of house price."
   ]
  },
  {
   "cell_type": "code",
   "execution_count": null,
   "metadata": {
    "collapsed": true
   },
   "outputs": [],
   "source": []
  },
  {
   "cell_type": "markdown",
   "metadata": {},
   "source": [
    "### Ridge Regression"
   ]
  },
  {
   "cell_type": "code",
   "execution_count": 14,
   "metadata": {},
   "outputs": [
    {
     "name": "stdout",
     "output_type": "stream",
     "text": [
      "R2:  0.799186315957\n"
     ]
    }
   ],
   "source": [
    "ridge=Ridge(alpha=0.1,random_state=42)\n",
    "scores=cross_val_score(ridge,data_prepared,data_labels,n_jobs=-1,cv=5,scoring='r2')\n",
    "print('R2: ',np.sqrt(scores).mean())"
   ]
  },
  {
   "cell_type": "code",
   "execution_count": 15,
   "metadata": {},
   "outputs": [
    {
     "data": {
      "image/png": "[encoded data removed]",
      "text/plain": [
       "<matplotlib.figure.Figure at 0xcc7e470>"
      ]
     },
     "metadata": {},
     "output_type": "display_data"
    }
   ],
   "source": [
    "ridge=Ridge(random_state=42)\n",
    "param_name='alpha'\n",
    "param_range = [1,10,50,100,200,300,500,700,1000]\n",
    "#param_range=[1,10,100,800,900,1000,1200,1400,1600,1800,2000]\n",
    "#scoring='r2'\n",
    "scoring='neg_mean_squared_error'\n",
    "curve=validation_curve(ridge,data_prepared,y_train,scoring=scoring,cv=5,param_name=param_name,\n",
    "    param_range=param_range,n_jobs=-1)\n",
    "\n",
    "n=len(param_range)\n",
    "'''if scoring=='r2':\n",
    "    train_score=[curve[0][i].mean() for i in range (0,n)]\n",
    "    test_score=[curve[1][i].mean() for i in range (0,n)]\n",
    "elif scoring=='neg_mean_squared_error':\n",
    "    train_score=[np.sqrt(-curve[0][i].mean()) for i in range (0,n)]\n",
    "    test_score=[np.sqrt(-curve[1][i].mean()) for i in range (0,n)]\n",
    "    '''\n",
    "\n",
    "plot_validation_curve(curve,param_range,param_name,scoring)"
   ]
  },
  {
   "cell_type": "markdown",
   "metadata": {},
   "source": [
    "From above plot It can be seen that Train and Test scores are almost after alpha=700.\n",
    "\n",
    "Even at alpha=0, difference between RMSE is not much, so there is no objectionable overfitting.\n",
    "As alpha is increased, bias is increasing and so the RMSE.\n",
    "\n",
    "As linear regression is not overfitting the model, using Ridge regression is not necessary."
   ]
  },
  {
   "cell_type": "code",
   "execution_count": null,
   "metadata": {
    "collapsed": true
   },
   "outputs": [],
   "source": []
  },
  {
   "cell_type": "markdown",
   "metadata": {},
   "source": [
    "### Support Vector Regression\n",
    "I have used this to use kernel trick with support vector machines and for polynomial features using RBF kernel."
   ]
  },
  {
   "cell_type": "code",
   "execution_count": 16,
   "metadata": {
    "collapsed": true
   },
   "outputs": [],
   "source": [
    "from sklearn.svm import SVR"
   ]
  },
  {
   "cell_type": "code",
   "execution_count": 17,
   "metadata": {},
   "outputs": [
    {
     "name": "stdout",
     "output_type": "stream",
     "text": [
      "Fitting 3 folds for each of 4 candidates, totalling 12 fits\n"
     ]
    },
    {
     "name": "stderr",
     "output_type": "stream",
     "text": [
      "[Parallel(n_jobs=-1)]: Done   2 out of  12 | elapsed:   10.9s remaining:   54.7s\n",
      "[Parallel(n_jobs=-1)]: Done   7 out of  12 | elapsed:  1.1min remaining:   45.3s\n",
      "[Parallel(n_jobs=-1)]: Done  12 out of  12 | elapsed:  1.8min remaining:    0.0s\n",
      "[Parallel(n_jobs=-1)]: Done  12 out of  12 | elapsed:  1.8min finished\n",
      "C:\\Users\\dbda\\Anaconda3\\lib\\site-packages\\sklearn\\utils\\validation.py:578: DataConversionWarning: A column-vector y was passed when a 1d array was expected. Please change the shape of y to (n_samples, ), for example using ravel().\n",
      "  y = column_or_1d(y, warn=True)\n"
     ]
    },
    {
     "data": {
      "text/plain": [
       "GridSearchCV(cv=3, error_score='raise',\n",
       "       estimator=SVR(C=1.0, cache_size=200, coef0=0.0, degree=2, epsilon=0.1, gamma='auto',\n",
       "  kernel='rbf', max_iter=-1, shrinking=True, tol=0.001, verbose=False),\n",
       "       fit_params=None, iid=True, n_jobs=-1,\n",
       "       param_grid={'C': [1, 10, 50, 100]}, pre_dispatch='2*n_jobs',\n",
       "       refit=True, return_train_score='warn', scoring='r2', verbose=3)"
      ]
     },
     "execution_count": 17,
     "metadata": {},
     "output_type": "execute_result"
    }
   ],
   "source": [
    "svr=SVR(degree=2)\n",
    "param_grid={\n",
    "    'C':[1,10,50,100]\n",
    "}\n",
    "scoring='r2'\n",
    "grid=GridSearchCV(svr,param_grid,scoring=scoring,n_jobs=-1,cv=3,verbose=3)\n",
    "grid.fit(data_prepared,data_labels)"
   ]
  },
  {
   "cell_type": "code",
   "execution_count": 18,
   "metadata": {},
   "outputs": [
    {
     "name": "stdout",
     "output_type": "stream",
     "text": [
      "{'C': 10}\n"
     ]
    }
   ],
   "source": [
    "print(grid.best_params_)\n",
    "#print(grid.best_score_)"
   ]
  },
  {
   "cell_type": "code",
   "execution_count": 19,
   "metadata": {},
   "outputs": [
    {
     "name": "stdout",
     "output_type": "stream",
     "text": [
      "R2:  0.878012135913\n"
     ]
    }
   ],
   "source": [
    "svr=SVR(degree=2,C=10)\n",
    "scores=cross_val_score(svr,data_prepared,data_labels,n_jobs=-1,cv=5,scoring='r2')\n",
    "print('R2: ',np.sqrt(scores).mean())"
   ]
  },
  {
   "cell_type": "markdown",
   "metadata": {},
   "source": [
    "So, with support vector machines\n",
    "\n",
    "R2=0.878\n",
    "\n",
    "which is better than Linear Regression model"
   ]
  },
  {
   "cell_type": "code",
   "execution_count": null,
   "metadata": {
    "collapsed": true
   },
   "outputs": [],
   "source": []
  },
  {
   "cell_type": "markdown",
   "metadata": {},
   "source": [
    "### Decision Tree"
   ]
  },
  {
   "cell_type": "code",
   "execution_count": 20,
   "metadata": {
    "collapsed": true
   },
   "outputs": [],
   "source": [
    "from sklearn.tree import DecisionTreeRegressor"
   ]
  },
  {
   "cell_type": "code",
   "execution_count": 21,
   "metadata": {},
   "outputs": [
    {
     "name": "stdout",
     "output_type": "stream",
     "text": [
      "R2:  0.757175224163\n"
     ]
    }
   ],
   "source": [
    "dtr=DecisionTreeRegressor(random_state=42)\n",
    "scores=cross_val_score(dtr,data_prepared,y_train,n_jobs=-1,cv=5,scoring='r2')\n",
    "print('R2: ',np.sqrt(scores).mean())"
   ]
  },
  {
   "cell_type": "markdown",
   "metadata": {},
   "source": [
    "So, basic decision tree model is giving\n",
    "\n",
    "R2=0.7571\n",
    "\n",
    "Then I did some parameter tuning so get best decision tree model."
   ]
  },
  {
   "cell_type": "markdown",
   "metadata": {},
   "source": [
    "**max_depth**"
   ]
  },
  {
   "cell_type": "code",
   "execution_count": 22,
   "metadata": {},
   "outputs": [
    {
     "data": {
      "image/png": "[encoded data removed]",
      "text/plain": [
       "<matplotlib.figure.Figure at 0xc5e4ac8>"
      ]
     },
     "metadata": {},
     "output_type": "display_data"
    }
   ],
   "source": [
    "dtr=DecisionTreeRegressor(random_state=42)\n",
    "param_name='max_depth'\n",
    "param_range = range(2,21,2)\n",
    "scoring='neg_mean_squared_error'\n",
    "curve=validation_curve(dtr,data_prepared,y_train,scoring=scoring,cv=5,param_name=param_name,\n",
    "    param_range=param_range,n_jobs=-1)\n",
    "\n",
    "plot_validation_curve(curve,param_range,param_name,scoring)"
   ]
  },
  {
   "cell_type": "markdown",
   "metadata": {},
   "source": [
    "From above diagram it is clear that model starts overfitting heavily after max_depth=8\n",
    "\n",
    "max_depth: 3 to 8"
   ]
  },
  {
   "cell_type": "markdown",
   "metadata": {},
   "source": [
    "**max_features**"
   ]
  },
  {
   "cell_type": "code",
   "execution_count": 23,
   "metadata": {},
   "outputs": [
    {
     "data": {
      "image/png": "[encoded data removed]",
      "text/plain": [
       "<matplotlib.figure.Figure at 0xcccb390>"
      ]
     },
     "metadata": {},
     "output_type": "display_data"
    }
   ],
   "source": [
    "dtr=DecisionTreeRegressor(max_depth=4,random_state=42)\n",
    "param_name='max_features'\n",
    "param_range = range(2,10)\n",
    "scoring='neg_mean_squared_error'\n",
    "curve=validation_curve(dtr,data_prepared,y_train,scoring=scoring,cv=5,param_name=param_name,\n",
    "    param_range=param_range,n_jobs=-1)\n",
    "plot_validation_curve(curve,param_range,param_name,scoring)"
   ]
  },
  {
   "cell_type": "markdown",
   "metadata": {},
   "source": [
    "max_features: 6 to 9"
   ]
  },
  {
   "cell_type": "markdown",
   "metadata": {},
   "source": [
    "**min_samples_split**"
   ]
  },
  {
   "cell_type": "code",
   "execution_count": 24,
   "metadata": {},
   "outputs": [
    {
     "data": {
      "image/png": "[encoded data removed]",
      "text/plain": [
       "<matplotlib.figure.Figure at 0xc5f7d30>"
      ]
     },
     "metadata": {},
     "output_type": "display_data"
    }
   ],
   "source": [
    "dtr=DecisionTreeRegressor(random_state=42)\n",
    "param_name='min_samples_split'\n",
    "param_range = range(2,2003,100)\n",
    "scoring='neg_mean_squared_error'\n",
    "curve=validation_curve(dtr,data_prepared,y_train,scoring=scoring,cv=5,param_name=param_name,\n",
    "    param_range=param_range,n_jobs=-1)\n",
    "plot_validation_curve(curve,param_range,param_name,scoring)"
   ]
  },
  {
   "cell_type": "markdown",
   "metadata": {},
   "source": [
    "With incresing min_samples_split after 200, variance is reducing"
   ]
  },
  {
   "cell_type": "markdown",
   "metadata": {},
   "source": [
    "**min_samples_leaf**"
   ]
  },
  {
   "cell_type": "code",
   "execution_count": 25,
   "metadata": {},
   "outputs": [
    {
     "data": {
      "image/png": "[encoded data removed]",
      "text/plain": [
       "<matplotlib.figure.Figure at 0xc5c5cc0>"
      ]
     },
     "metadata": {},
     "output_type": "display_data"
    }
   ],
   "source": [
    "dtr=DecisionTreeRegressor(max_depth=4,random_state=42)\n",
    "param_name='min_samples_leaf'\n",
    "param_range = range(1,701,100)\n",
    "scoring='neg_mean_squared_error'\n",
    "curve=validation_curve(dtr,data_prepared,y_train,scoring=scoring,cv=5,param_name=param_name,\n",
    "    param_range=param_range,n_jobs=-1)\n",
    "plot_validation_curve(curve,param_range,param_name,scoring)"
   ]
  },
  {
   "cell_type": "markdown",
   "metadata": {},
   "source": [
    "Increasing min_samples_leaf is neither giving good results nor helping to reduce overfitting."
   ]
  },
  {
   "cell_type": "code",
   "execution_count": null,
   "metadata": {
    "collapsed": true
   },
   "outputs": [],
   "source": []
  },
  {
   "cell_type": "markdown",
   "metadata": {},
   "source": [
    "### Gradient Boosting Regression\n",
    "I used this ensembling method to get the best model from decision trees."
   ]
  },
  {
   "cell_type": "code",
   "execution_count": 26,
   "metadata": {
    "collapsed": true
   },
   "outputs": [],
   "source": [
    "from sklearn.ensemble import GradientBoostingRegressor"
   ]
  },
  {
   "cell_type": "code",
   "execution_count": 27,
   "metadata": {},
   "outputs": [
    {
     "name": "stdout",
     "output_type": "stream",
     "text": [
      "Fitting 3 folds for each of 108 candidates, totalling 324 fits\n"
     ]
    },
    {
     "name": "stderr",
     "output_type": "stream",
     "text": [
      "[Parallel(n_jobs=-1)]: Done  34 tasks      | elapsed:   17.7s\n",
      "[Parallel(n_jobs=-1)]: Done 184 tasks      | elapsed:  1.9min\n",
      "[Parallel(n_jobs=-1)]: Done 324 out of 324 | elapsed:  4.4min finished\n"
     ]
    },
    {
     "name": "stdout",
     "output_type": "stream",
     "text": [
      "{'max_depth': 8, 'max_features': 6, 'min_samples_split': 200, 'n_estimators': 100}\n"
     ]
    }
   ],
   "source": [
    "gbr=GradientBoostingRegressor(random_state=42)\n",
    "param_grid={\n",
    "    'n_estimators':[100,500,1000],\n",
    "    'max_depth':range(3,9,1),\n",
    "    'max_features':[6,7,9],\n",
    "    'min_samples_split':[200,400]  \n",
    "}\n",
    "scoring='r2'\n",
    "grid=GridSearchCV(gbr,param_grid,scoring=scoring,n_jobs=-1,cv=3,verbose=1)\n",
    "grid.fit(data_prepared,y_train)\n",
    "print(grid.best_params_)"
   ]
  },
  {
   "cell_type": "code",
   "execution_count": null,
   "metadata": {
    "collapsed": true
   },
   "outputs": [],
   "source": []
  },
  {
   "cell_type": "markdown",
   "metadata": {},
   "source": [
    "Check for **n_estimators**"
   ]
  },
  {
   "cell_type": "code",
   "execution_count": 28,
   "metadata": {},
   "outputs": [
    {
     "data": {
      "image/png": "[encoded data removed]",
      "text/plain": [
       "<matplotlib.figure.Figure at 0xcd16a58>"
      ]
     },
     "metadata": {},
     "output_type": "display_data"
    }
   ],
   "source": [
    "gbr=GradientBoostingRegressor(max_depth= 8, max_features=6, min_samples_split=200,random_state=42)\n",
    "param_name='n_estimators'\n",
    "param_range = range(50,251,50)\n",
    "scoring='r2'\n",
    "curve=validation_curve(gbr,data_prepared,y_train,scoring=scoring,cv=5,param_name=param_name,\n",
    "    param_range=param_range,n_jobs=-1)\n",
    "plot_validation_curve(curve,param_range,param_name,scoring)"
   ]
  },
  {
   "cell_type": "markdown",
   "metadata": {},
   "source": [
    "With increasing number of estimators, model is overfitting.\n",
    "With lower number of estimators, model is underfitting.\n",
    "\n",
    "I chose **n_estimators**=100"
   ]
  },
  {
   "cell_type": "code",
   "execution_count": 29,
   "metadata": {},
   "outputs": [
    {
     "name": "stdout",
     "output_type": "stream",
     "text": [
      "R2:  0.897464355204\n"
     ]
    }
   ],
   "source": [
    "gbr=GradientBoostingRegressor(max_depth= 8, max_features=6, min_samples_split=200, n_estimators=100,random_state=42)\n",
    "scores=cross_val_score(gbr,data_prepared,y_train,n_jobs=-1,cv=5,scoring='r2')\n",
    "print('R2: ',np.sqrt(scores).mean())"
   ]
  },
  {
   "cell_type": "markdown",
   "metadata": {
    "collapsed": true
   },
   "source": [
    "With above GradientBosting model\n",
    "\n",
    "R2=0.897\n",
    "\n",
    "This model is even better than support vector regressor."
   ]
  },
  {
   "cell_type": "code",
   "execution_count": null,
   "metadata": {
    "collapsed": true
   },
   "outputs": [],
   "source": []
  },
  {
   "cell_type": "markdown",
   "metadata": {
    "collapsed": true
   },
   "source": [
    "### Stacking\n",
    "This is another ensembling method.\n",
    "\n",
    "In this, I have used Linear regression and Gradient boosing regression  as base models and Support Vector Regression as meta model."
   ]
  },
  {
   "cell_type": "code",
   "execution_count": 30,
   "metadata": {
    "collapsed": true
   },
   "outputs": [],
   "source": [
    "from mlxtend.regressor import StackingRegressor"
   ]
  },
  {
   "cell_type": "code",
   "execution_count": 31,
   "metadata": {
    "collapsed": true
   },
   "outputs": [],
   "source": [
    "lr=LinearRegression()\n",
    "svr=SVR(degree=2,C=10)\n",
    "gbr=GradientBoostingRegressor(max_depth= 8, max_features=6, min_samples_split=200, n_estimators=100,random_state=42)"
   ]
  },
  {
   "cell_type": "code",
   "execution_count": 32,
   "metadata": {},
   "outputs": [
    {
     "name": "stdout",
     "output_type": "stream",
     "text": [
      "R2:  0.892142951903\n"
     ]
    }
   ],
   "source": [
    "sr=StackingRegressor([lr,gbr],svr,verbose=3)\n",
    "scores=cross_val_score(sr,data_prepared,data_labels,n_jobs=-1,cv=3,scoring='r2')\n",
    "print('R2: ',np.sqrt(scores).mean())"
   ]
  },
  {
   "cell_type": "markdown",
   "metadata": {},
   "source": [
    "For stacking,\n",
    "\n",
    "R2=0.892\n",
    "\n",
    "This is less than Gradient Boosting Regressor."
   ]
  },
  {
   "cell_type": "markdown",
   "metadata": {},
   "source": [
    "### Final Model:\n",
    "\n",
    "I finalized following Gradient Boosing Regressor with following parameters:\n",
    "\n",
    "1. n_estimators=100\n",
    "2. max_depth=8\n",
    "3. max_features=6\n",
    "4. min_samples_split=200\n"
   ]
  },
  {
   "cell_type": "markdown",
   "metadata": {},
   "source": [
    "## Learning Curve"
   ]
  },
  {
   "cell_type": "code",
   "execution_count": 33,
   "metadata": {},
   "outputs": [
    {
     "data": {
      "text/plain": [
       "<matplotlib.legend.Legend at 0xd2391d0>"
      ]
     },
     "execution_count": 33,
     "metadata": {},
     "output_type": "execute_result"
    },
    {
     "data": {
      "image/png": "[encoded data removed]",
      "text/plain": [
       "<matplotlib.figure.Figure at 0xc662550>"
      ]
     },
     "metadata": {},
     "output_type": "display_data"
    }
   ],
   "source": [
    "gbr=GradientBoostingRegressor(max_depth= 8, max_features=6, min_samples_split=200, n_estimators=100,random_state=42)\n",
    "lc=learning_curve(gbr,data_prepared,y_train,cv=5,n_jobs=-1)\n",
    "size=lc[0]\n",
    "train_score=[lc[1][i].mean() for i in range (0,5)]\n",
    "test_score=[lc[2][i].mean() for i in range (0,5)]\n",
    "fig=plt.figure(figsize=(12,8))\n",
    "plt.plot(size,train_score,label='Train')\n",
    "plt.plot(size,test_score,label=\"Test\")\n",
    "plt.legend()"
   ]
  },
  {
   "cell_type": "markdown",
   "metadata": {},
   "source": [
    "From learning curve it is clear that this model is still overfitting.\n",
    "But, with the increase in number of samples, variance is decreasing.\n",
    "\n",
    "So, getting more training data can be a solution for overfitting."
   ]
  },
  {
   "cell_type": "code",
   "execution_count": null,
   "metadata": {
    "collapsed": true
   },
   "outputs": [],
   "source": []
  },
  {
   "cell_type": "markdown",
   "metadata": {},
   "source": [
    "## Predicting on Test Set"
   ]
  },
  {
   "cell_type": "code",
   "execution_count": 34,
   "metadata": {
    "collapsed": true
   },
   "outputs": [],
   "source": [
    "test_data=pd.read_csv('strat_test_set.csv')\n",
    "test_data_labels=test_data['median_house_value'].copy()\n",
    "test_data.drop('median_house_value',axis=1,inplace=True)"
   ]
  },
  {
   "cell_type": "markdown",
   "metadata": {},
   "source": [
    "I did following data manupulations on test data\n",
    "1. Adding features\n",
    "2. Transforming skewed features"
   ]
  },
  {
   "cell_type": "code",
   "execution_count": 35,
   "metadata": {},
   "outputs": [
    {
     "name": "stderr",
     "output_type": "stream",
     "text": [
      "C:\\Users\\dbda\\Anaconda3\\lib\\site-packages\\ipykernel_launcher.py:74: SettingWithCopyWarning: \n",
      "A value is trying to be set on a copy of a slice from a DataFrame.\n",
      "Try using .loc[row_indexer,col_indexer] = value instead\n",
      "\n",
      "See the caveats in the documentation: http://pandas.pydata.org/pandas-docs/stable/indexing.html#indexing-view-versus-copy\n",
      "C:\\Users\\dbda\\Anaconda3\\lib\\site-packages\\pandas\\core\\frame.py:2366: SettingWithCopyWarning: \n",
      "A value is trying to be set on a copy of a slice from a DataFrame\n",
      "\n",
      "See the caveats in the documentation: http://pandas.pydata.org/pandas-docs/stable/indexing.html#indexing-view-versus-copy\n",
      "  self._where(-key, value, inplace=True)\n"
     ]
    }
   ],
   "source": [
    "fa=FeaturesAdder()\n",
    "df_test=fa.fit_transform(test_data)\n",
    "\n",
    "df_test=FeaturesTransformer().fit_transform(df_test)\n",
    "\n",
    "#used 'transform' method, as I don't want to refit the standard scalar on test data.\n",
    "df_test=data_cleaning_pipeline.transform(df_test)\n",
    "\n",
    "df_test=pd.DataFrame(df_test,columns=l)"
   ]
  },
  {
   "cell_type": "markdown",
   "metadata": {},
   "source": [
    "Scaling test data labels"
   ]
  },
  {
   "cell_type": "code",
   "execution_count": 36,
   "metadata": {
    "collapsed": true
   },
   "outputs": [],
   "source": [
    "#used 'transform' method, as I don't want to refit the standard scalar on test data.\n",
    "\n",
    "y_test=test_data_labels.copy()\n",
    "test_data_labels=label_scaler.transform(y_test.values.reshape(-1,1))"
   ]
  },
  {
   "cell_type": "markdown",
   "metadata": {},
   "source": [
    "Choosing same columns of test_data as of train_data"
   ]
  },
  {
   "cell_type": "code",
   "execution_count": 37,
   "metadata": {
    "collapsed": true
   },
   "outputs": [],
   "source": [
    "test_data_prepared=df_test[data_prepared.columns]"
   ]
  },
  {
   "cell_type": "code",
   "execution_count": 38,
   "metadata": {},
   "outputs": [
    {
     "name": "stderr",
     "output_type": "stream",
     "text": [
      "C:\\Users\\dbda\\Anaconda3\\lib\\site-packages\\sklearn\\utils\\validation.py:578: DataConversionWarning: A column-vector y was passed when a 1d array was expected. Please change the shape of y to (n_samples, ), for example using ravel().\n",
      "  y = column_or_1d(y, warn=True)\n"
     ]
    }
   ],
   "source": [
    "gbr=GradientBoostingRegressor(max_depth= 8, max_features=6, min_samples_split=200, n_estimators=100,random_state=42)\n",
    "gbr.fit(data_prepared,data_labels)\n",
    "train_pred=gbr.predict(data_prepared)\n",
    "test_pred=gbr.predict(test_data_prepared)"
   ]
  },
  {
   "cell_type": "code",
   "execution_count": 39,
   "metadata": {},
   "outputs": [
    {
     "name": "stdout",
     "output_type": "stream",
     "text": [
      "train error: 39773.947833\n",
      "test eroor: 49798.9177919\n"
     ]
    }
   ],
   "source": [
    "mse=mean_squared_error(y_train,label_scaler.inverse_transform(train_pred))\n",
    "rmse=np.sqrt(mse)\n",
    "print('train error:',rmse)\n",
    "mse=mean_squared_error(y_test,label_scaler.inverse_transform(test_pred))\n",
    "rmse=np.sqrt(mse)\n",
    "print('test eroor:',rmse)"
   ]
  },
  {
   "cell_type": "code",
   "execution_count": null,
   "metadata": {
    "collapsed": true
   },
   "outputs": [],
   "source": []
  }
 ],
 "metadata": {
  "kernelspec": {
   "display_name": "Python 3",
   "language": "python",
   "name": "python3"
  },
  "language_info": {
   "codemirror_mode": {
    "name": "ipython",
    "version": 3
   },
   "file_extension": ".py",
   "mimetype": "text/x-python",
   "name": "python",
   "nbconvert_exporter": "python",
   "pygments_lexer": "ipython3",
   "version": "3.6.3"
  }
 },
 "nbformat": 4,
 "nbformat_minor": 2
}
